{
 "cells": [
  {
   "cell_type": "code",
   "execution_count": 106,
   "id": "30254263-c58e-4720-a3e5-f2edc8d8aec5",
   "metadata": {},
   "outputs": [],
   "source": [
    "import pandas as pd"
   ]
  },
  {
   "cell_type": "code",
   "execution_count": 107,
   "id": "5b19ae12-78e3-44cf-ae29-6dc3f89acdbf",
   "metadata": {},
   "outputs": [],
   "source": [
    "import numpy as np"
   ]
  },
  {
   "cell_type": "markdown",
   "id": "bb83c7f9-2e14-4f2d-8273-9bb33606bee4",
   "metadata": {},
   "source": [
    "Импортируем данные:"
   ]
  },
  {
   "cell_type": "code",
   "execution_count": 108,
   "id": "81970209-e3c2-4019-9fef-f4f8269411d8",
   "metadata": {},
   "outputs": [
    {
     "data": {
      "text/html": [
       "<div>\n",
       "<style scoped>\n",
       "    .dataframe tbody tr th:only-of-type {\n",
       "        vertical-align: middle;\n",
       "    }\n",
       "\n",
       "    .dataframe tbody tr th {\n",
       "        vertical-align: top;\n",
       "    }\n",
       "\n",
       "    .dataframe thead th {\n",
       "        text-align: right;\n",
       "    }\n",
       "</style>\n",
       "<table border=\"1\" class=\"dataframe\">\n",
       "  <thead>\n",
       "    <tr style=\"text-align: right;\">\n",
       "      <th></th>\n",
       "      <th>age</th>\n",
       "      <th>workclass</th>\n",
       "      <th>fnlwgt</th>\n",
       "      <th>education</th>\n",
       "      <th>educational-num</th>\n",
       "      <th>marital-status</th>\n",
       "      <th>occupation</th>\n",
       "      <th>relationship</th>\n",
       "      <th>race</th>\n",
       "      <th>gender</th>\n",
       "      <th>capital-gain</th>\n",
       "      <th>capital-loss</th>\n",
       "      <th>hours-per-week</th>\n",
       "      <th>native-country</th>\n",
       "      <th>income</th>\n",
       "    </tr>\n",
       "  </thead>\n",
       "  <tbody>\n",
       "    <tr>\n",
       "      <th>0</th>\n",
       "      <td>25</td>\n",
       "      <td>Private</td>\n",
       "      <td>226802</td>\n",
       "      <td>11th</td>\n",
       "      <td>7</td>\n",
       "      <td>Never-married</td>\n",
       "      <td>Machine-op-inspct</td>\n",
       "      <td>Own-child</td>\n",
       "      <td>Black</td>\n",
       "      <td>Male</td>\n",
       "      <td>0</td>\n",
       "      <td>0</td>\n",
       "      <td>40</td>\n",
       "      <td>United-States</td>\n",
       "      <td>&lt;=50K</td>\n",
       "    </tr>\n",
       "    <tr>\n",
       "      <th>1</th>\n",
       "      <td>38</td>\n",
       "      <td>Private</td>\n",
       "      <td>89814</td>\n",
       "      <td>HS-grad</td>\n",
       "      <td>9</td>\n",
       "      <td>Married-civ-spouse</td>\n",
       "      <td>Farming-fishing</td>\n",
       "      <td>Husband</td>\n",
       "      <td>White</td>\n",
       "      <td>Male</td>\n",
       "      <td>0</td>\n",
       "      <td>0</td>\n",
       "      <td>50</td>\n",
       "      <td>United-States</td>\n",
       "      <td>&lt;=50K</td>\n",
       "    </tr>\n",
       "    <tr>\n",
       "      <th>2</th>\n",
       "      <td>28</td>\n",
       "      <td>Local-gov</td>\n",
       "      <td>336951</td>\n",
       "      <td>Assoc-acdm</td>\n",
       "      <td>12</td>\n",
       "      <td>Married-civ-spouse</td>\n",
       "      <td>Protective-serv</td>\n",
       "      <td>Husband</td>\n",
       "      <td>White</td>\n",
       "      <td>Male</td>\n",
       "      <td>0</td>\n",
       "      <td>0</td>\n",
       "      <td>40</td>\n",
       "      <td>United-States</td>\n",
       "      <td>&gt;50K</td>\n",
       "    </tr>\n",
       "    <tr>\n",
       "      <th>3</th>\n",
       "      <td>44</td>\n",
       "      <td>Private</td>\n",
       "      <td>160323</td>\n",
       "      <td>Some-college</td>\n",
       "      <td>10</td>\n",
       "      <td>Married-civ-spouse</td>\n",
       "      <td>Machine-op-inspct</td>\n",
       "      <td>Husband</td>\n",
       "      <td>Black</td>\n",
       "      <td>Male</td>\n",
       "      <td>7688</td>\n",
       "      <td>0</td>\n",
       "      <td>40</td>\n",
       "      <td>United-States</td>\n",
       "      <td>&gt;50K</td>\n",
       "    </tr>\n",
       "    <tr>\n",
       "      <th>4</th>\n",
       "      <td>18</td>\n",
       "      <td>?</td>\n",
       "      <td>103497</td>\n",
       "      <td>Some-college</td>\n",
       "      <td>10</td>\n",
       "      <td>Never-married</td>\n",
       "      <td>?</td>\n",
       "      <td>Own-child</td>\n",
       "      <td>White</td>\n",
       "      <td>Female</td>\n",
       "      <td>0</td>\n",
       "      <td>0</td>\n",
       "      <td>30</td>\n",
       "      <td>United-States</td>\n",
       "      <td>&lt;=50K</td>\n",
       "    </tr>\n",
       "  </tbody>\n",
       "</table>\n",
       "</div>"
      ],
      "text/plain": [
       "   age  workclass  fnlwgt     education  educational-num      marital-status  \\\n",
       "0   25    Private  226802          11th                7       Never-married   \n",
       "1   38    Private   89814       HS-grad                9  Married-civ-spouse   \n",
       "2   28  Local-gov  336951    Assoc-acdm               12  Married-civ-spouse   \n",
       "3   44    Private  160323  Some-college               10  Married-civ-spouse   \n",
       "4   18          ?  103497  Some-college               10       Never-married   \n",
       "\n",
       "          occupation relationship   race  gender  capital-gain  capital-loss  \\\n",
       "0  Machine-op-inspct    Own-child  Black    Male             0             0   \n",
       "1    Farming-fishing      Husband  White    Male             0             0   \n",
       "2    Protective-serv      Husband  White    Male             0             0   \n",
       "3  Machine-op-inspct      Husband  Black    Male          7688             0   \n",
       "4                  ?    Own-child  White  Female             0             0   \n",
       "\n",
       "   hours-per-week native-country income  \n",
       "0              40  United-States  <=50K  \n",
       "1              50  United-States  <=50K  \n",
       "2              40  United-States   >50K  \n",
       "3              40  United-States   >50K  \n",
       "4              30  United-States  <=50K  "
      ]
     },
     "execution_count": 108,
     "metadata": {},
     "output_type": "execute_result"
    }
   ],
   "source": [
    "df = pd.read_csv('adult.csv')\n",
    "df.head()"
   ]
  },
  {
   "cell_type": "markdown",
   "id": "4a1ff754-402a-4011-abd2-abbc5afd5d76",
   "metadata": {},
   "source": [
    "Задание 1. Число столбцов в наборе данных:"
   ]
  },
  {
   "cell_type": "code",
   "execution_count": 109,
   "id": "b9b8d72d-310c-4faf-833f-1ba46948186d",
   "metadata": {},
   "outputs": [
    {
     "data": {
      "text/plain": [
       "(48842, 15)"
      ]
     },
     "execution_count": 109,
     "metadata": {},
     "output_type": "execute_result"
    }
   ],
   "source": [
    "df.shape"
   ]
  },
  {
   "cell_type": "markdown",
   "id": "56ed33bd-d5b2-4dc1-a003-e57c6553ecbf",
   "metadata": {},
   "source": [
    "Задание 2. Пропуски в наборе данных:"
   ]
  },
  {
   "cell_type": "code",
   "execution_count": 110,
   "id": "c01714a2-c5d1-402f-8ba7-18f5baf8ab16",
   "metadata": {},
   "outputs": [
    {
     "name": "stdout",
     "output_type": "stream",
     "text": [
      "<class 'pandas.core.frame.DataFrame'>\n",
      "RangeIndex: 48842 entries, 0 to 48841\n",
      "Data columns (total 15 columns):\n",
      " #   Column           Non-Null Count  Dtype \n",
      "---  ------           --------------  ----- \n",
      " 0   age              48842 non-null  int64 \n",
      " 1   workclass        48842 non-null  object\n",
      " 2   fnlwgt           48842 non-null  int64 \n",
      " 3   education        48842 non-null  object\n",
      " 4   educational-num  48842 non-null  int64 \n",
      " 5   marital-status   48842 non-null  object\n",
      " 6   occupation       48842 non-null  object\n",
      " 7   relationship     48842 non-null  object\n",
      " 8   race             48842 non-null  object\n",
      " 9   gender           48842 non-null  object\n",
      " 10  capital-gain     48842 non-null  int64 \n",
      " 11  capital-loss     48842 non-null  int64 \n",
      " 12  hours-per-week   48842 non-null  int64 \n",
      " 13  native-country   48842 non-null  object\n",
      " 14  income           48842 non-null  object\n",
      "dtypes: int64(6), object(9)\n",
      "memory usage: 5.6+ MB\n"
     ]
    }
   ],
   "source": [
    "df.info()"
   ]
  },
  {
   "cell_type": "markdown",
   "id": "d0c45007-72a4-4bf4-b7b3-1992cd502082",
   "metadata": {},
   "source": [
    "Пропусков нет, но выделяются \"?\". Посчитаем их количество:"
   ]
  },
  {
   "cell_type": "code",
   "execution_count": 111,
   "id": "36a096d3-1cec-4252-836a-9efb11642f21",
   "metadata": {},
   "outputs": [
    {
     "data": {
      "text/plain": [
       "age                   0\n",
       "workclass          2799\n",
       "fnlwgt                0\n",
       "education             0\n",
       "educational-num       0\n",
       "marital-status        0\n",
       "occupation         2809\n",
       "relationship          0\n",
       "race                  0\n",
       "gender                0\n",
       "capital-gain          0\n",
       "capital-loss          0\n",
       "hours-per-week        0\n",
       "native-country      857\n",
       "income                0\n",
       "dtype: int64"
      ]
     },
     "execution_count": 111,
     "metadata": {},
     "output_type": "execute_result"
    }
   ],
   "source": [
    "df.isin(['?']).sum()"
   ]
  },
  {
   "cell_type": "markdown",
   "id": "4fe74654-b334-4674-b3d9-345c578d9682",
   "metadata": {},
   "source": [
    "Пропуски есть в столбцах \"workclass\", \"occupation\", \"native-country\"."
   ]
  },
  {
   "cell_type": "markdown",
   "id": "e323b5ac-529a-4b16-8c09-57f9aa338c35",
   "metadata": {},
   "source": [
    "Задание 3. Уникальные значения в столбце \"race\":"
   ]
  },
  {
   "cell_type": "code",
   "execution_count": 112,
   "id": "d0f7b3e6-d322-413d-83bf-8bca1c463d89",
   "metadata": {},
   "outputs": [
    {
     "data": {
      "text/plain": [
       "array(['Black', 'White', 'Asian-Pac-Islander', 'Other',\n",
       "       'Amer-Indian-Eskimo'], dtype=object)"
      ]
     },
     "execution_count": 112,
     "metadata": {},
     "output_type": "execute_result"
    }
   ],
   "source": [
    "df['race'].unique()"
   ]
  },
  {
   "cell_type": "code",
   "execution_count": 113,
   "id": "479da23f-e80a-4787-ba90-e8f9a0c7f628",
   "metadata": {},
   "outputs": [
    {
     "data": {
      "text/plain": [
       "5"
      ]
     },
     "execution_count": 113,
     "metadata": {},
     "output_type": "execute_result"
    }
   ],
   "source": [
    "len(df['race'].unique())"
   ]
  },
  {
   "cell_type": "markdown",
   "id": "594714bf-3e5f-4235-8a2f-6a34151e94cb",
   "metadata": {},
   "source": [
    "Задание 4. Медиана:"
   ]
  },
  {
   "cell_type": "code",
   "execution_count": 114,
   "id": "c07e204a-b5c3-47c9-a2d3-1e4e0fd40a26",
   "metadata": {},
   "outputs": [
    {
     "data": {
      "text/plain": [
       "np.float64(40.0)"
      ]
     },
     "execution_count": 114,
     "metadata": {},
     "output_type": "execute_result"
    }
   ],
   "source": [
    "df['hours-per-week']. median ()"
   ]
  },
  {
   "cell_type": "markdown",
   "id": "e65a2295-d49a-4df4-afdb-2206abe1a024",
   "metadata": {},
   "source": [
    "Задание 5. Какой гендер доминирует в зарплате \">50K\": "
   ]
  },
  {
   "cell_type": "code",
   "execution_count": 115,
   "id": "dd4fa642-9565-43b4-9967-57ce2825d128",
   "metadata": {},
   "outputs": [],
   "source": [
    "high_salary_df = df[df['income'] == '>50K']"
   ]
  },
  {
   "cell_type": "code",
   "execution_count": 116,
   "id": "261b8fb2-86a3-42d7-8f4c-515a03026331",
   "metadata": {},
   "outputs": [
    {
     "name": "stdout",
     "output_type": "stream",
     "text": [
      "gender\n",
      "Male      9918\n",
      "Female    1769\n",
      "Name: count, dtype: int64\n"
     ]
    }
   ],
   "source": [
    "count = high_salary_df['gender'].value_counts()\n",
    "\n",
    "print(count)"
   ]
  },
  {
   "cell_type": "markdown",
   "id": "ebd537d6-ee31-4228-9329-8a31e4780b6c",
   "metadata": {},
   "source": [
    "Задание 6. Заполним пустые значения (в нашем случае - \"?\") наиболее часто встречающимся значением (мода):"
   ]
  },
  {
   "cell_type": "markdown",
   "id": "d78d5ffb-5492-4a04-b942-2e762f1a030a",
   "metadata": {},
   "source": [
    "Для начала заменим \"?\" на пустые значения:"
   ]
  },
  {
   "cell_type": "code",
   "execution_count": 117,
   "id": "6b7f0439-c538-4092-9f1a-38f364a72ab4",
   "metadata": {},
   "outputs": [],
   "source": [
    "df['workclass'] = df['workclass'].replace('?', np.nan)\n",
    "df['occupation'] = df['occupation'].replace('?', np.nan)\n",
    "df['native-country'] = df['native-country'].replace('?', np.nan)"
   ]
  },
  {
   "cell_type": "code",
   "execution_count": 118,
   "id": "62e1f37e-9dc6-467f-a1c9-0c66024fc366",
   "metadata": {},
   "outputs": [
    {
     "name": "stdout",
     "output_type": "stream",
     "text": [
      "age                False\n",
      "workclass           True\n",
      "fnlwgt             False\n",
      "education          False\n",
      "educational-num    False\n",
      "marital-status     False\n",
      "occupation          True\n",
      "relationship       False\n",
      "race               False\n",
      "gender             False\n",
      "capital-gain       False\n",
      "capital-loss       False\n",
      "hours-per-week     False\n",
      "native-country      True\n",
      "income             False\n",
      "dtype: bool\n"
     ]
    }
   ],
   "source": [
    "print(df.isnull().any())"
   ]
  },
  {
   "cell_type": "markdown",
   "id": "0d8cb8b4-acce-468f-8148-2e508cc889d1",
   "metadata": {},
   "source": [
    "Вывод моды каждого столбца:"
   ]
  },
  {
   "cell_type": "code",
   "execution_count": 119,
   "id": "a74647c6-60d6-4bb3-8f7c-52e8197e1c13",
   "metadata": {},
   "outputs": [
    {
     "data": {
      "text/plain": [
       "age                                36\n",
       "workclass                     Private\n",
       "fnlwgt                         203488\n",
       "education                     HS-grad\n",
       "educational-num                     9\n",
       "marital-status     Married-civ-spouse\n",
       "occupation             Prof-specialty\n",
       "relationship                  Husband\n",
       "race                            White\n",
       "gender                           Male\n",
       "capital-gain                        0\n",
       "capital-loss                        0\n",
       "hours-per-week                     40\n",
       "native-country          United-States\n",
       "income                          <=50K\n",
       "Name: 0, dtype: object"
      ]
     },
     "execution_count": 119,
     "metadata": {},
     "output_type": "execute_result"
    }
   ],
   "source": [
    "df.mode().iloc[0]"
   ]
  },
  {
   "cell_type": "markdown",
   "id": "3548dfe0-94ce-46df-a24f-ba260f50ae25",
   "metadata": {},
   "source": [
    "Заменяем пустые значения на моду в каждом столбце:"
   ]
  },
  {
   "cell_type": "code",
   "execution_count": 120,
   "id": "c071088b-76cf-4ba4-8406-9376afb242bf",
   "metadata": {},
   "outputs": [],
   "source": [
    "df.fillna(df.mode().iloc[0], inplace=True)"
   ]
  },
  {
   "cell_type": "markdown",
   "id": "e1df50ad-54f7-4e0b-aae2-e7a2ac056e01",
   "metadata": {},
   "source": [
    "Проверим, сработало ли:"
   ]
  },
  {
   "cell_type": "code",
   "execution_count": 121,
   "id": "8b3fcf1c-6736-4877-a1bd-212f6caf7f4b",
   "metadata": {},
   "outputs": [
    {
     "name": "stdout",
     "output_type": "stream",
     "text": [
      "age                False\n",
      "workclass          False\n",
      "fnlwgt             False\n",
      "education          False\n",
      "educational-num    False\n",
      "marital-status     False\n",
      "occupation         False\n",
      "relationship       False\n",
      "race               False\n",
      "gender             False\n",
      "capital-gain       False\n",
      "capital-loss       False\n",
      "hours-per-week     False\n",
      "native-country     False\n",
      "income             False\n",
      "dtype: bool\n"
     ]
    }
   ],
   "source": [
    "print(df.isnull().any())"
   ]
  },
  {
   "cell_type": "markdown",
   "id": "e49aa437-e4b4-4b5f-87d8-8ad87854b303",
   "metadata": {},
   "source": [
    "Задания:\n",
    "1) Число столбцов в наборе данных\n",
    "2) Есть ли пропуски в данных? Если есть, то в каких столбцах\n",
    "3) Кол-во уникальных значений в столбце race\n",
    "4) Медиана hours-per-week\n",
    "5) Кого больше - женщин или мужчин с ЗП >50K?\n",
    "6) Заполните пропущенные данные в отдельных столбцах наиболее встречаемыми значениями. Как еще можно было бы заполнить пропущенные данные?"
   ]
  },
  {
   "cell_type": "markdown",
   "id": "6ade8c99-b9c6-465e-82db-19b305481c0f",
   "metadata": {},
   "source": [
    "Ответ:\n",
    "1) 15\n",
    "2) Есть. \"workclass\", \"occupation\", \"native-country\"\n",
    "3) 5\n",
    "4) 40.0\n",
    "5) Мужчин.\n",
    "6) Пропущенные данные можно было заполнить, к примеру, средним значением, медианой, минимальным значением, предыдущим или следующим значением и др."
   ]
  }
 ],
 "metadata": {
  "kernelspec": {
   "display_name": "Python 3 (ipykernel)",
   "language": "python",
   "name": "python3"
  },
  "language_info": {
   "codemirror_mode": {
    "name": "ipython",
    "version": 3
   },
   "file_extension": ".py",
   "mimetype": "text/x-python",
   "name": "python",
   "nbconvert_exporter": "python",
   "pygments_lexer": "ipython3",
   "version": "3.10.4"
  }
 },
 "nbformat": 4,
 "nbformat_minor": 5
}
