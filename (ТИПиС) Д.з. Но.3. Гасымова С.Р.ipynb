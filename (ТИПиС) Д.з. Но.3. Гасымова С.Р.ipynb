{
 "cells": [
  {
   "cell_type": "code",
   "execution_count": 41,
   "metadata": {},
   "outputs": [],
   "source": [
    "import pandas as pd\n",
    "import numpy as np\n",
    "import matplotlib.pyplot as plt\n",
    "from sklearn.model_selection import train_test_split\n",
    "from sklearn.feature_selection import mutual_info_classif\n",
    "from sklearn.preprocessing import OneHotEncoder, StandardScaler\n",
    "from sklearn.linear_model import LogisticRegression\n",
    "from sklearn.metrics import accuracy_score, classification_report, confusion_matrix, ConfusionMatrixDisplay\n",
    "import zipfile\n",
    "import os\n",
    "import joblib\n",
    "import requests"
   ]
  },
  {
   "cell_type": "code",
   "execution_count": 42,
   "metadata": {},
   "outputs": [],
   "source": [
    "# Устанавливаем случайное зерно для воспроизводимости\n",
    "np.random.seed(42)"
   ]
  },
  {
   "cell_type": "code",
   "execution_count": 43,
   "metadata": {},
   "outputs": [
    {
     "name": "stderr",
     "output_type": "stream",
     "text": [
      "/Library/Frameworks/Python.framework/Versions/3.13/lib/python3.13/site-packages/urllib3/connectionpool.py:1099: InsecureRequestWarning: Unverified HTTPS request is being made to host 'archive.ics.uci.edu'. Adding certificate verification is strongly advised. See: https://urllib3.readthedocs.io/en/latest/advanced-usage.html#tls-warnings\n",
      "  warnings.warn(\n"
     ]
    }
   ],
   "source": [
    "# Загрузка и извлечение данных\n",
    "url = 'https://archive.ics.uci.edu/static/public/222/bank+marketing.zip'\n",
    "zip_path = 'bank+marketing.zip'\n",
    "response = requests.get(url, verify=False)  # Отключение проверки сертификатов\n",
    "\n",
    "with open(zip_path, 'wb') as f:\n",
    "    f.write(response.content)\n",
    "\n",
    "with zipfile.ZipFile(zip_path, 'r') as zip_ref:\n",
    "    zip_ref.extractall('bank+marketing')"
   ]
  },
  {
   "cell_type": "code",
   "execution_count": 44,
   "metadata": {},
   "outputs": [
    {
     "name": "stdout",
     "output_type": "stream",
     "text": [
      "Файл сохранен по пути: bank+marketing/bank/bank-full.csv\n",
      "   age           job  marital  education default  balance housing loan  \\\n",
      "0   58    management  married   tertiary      no     2143     yes   no   \n",
      "1   44    technician   single  secondary      no       29     yes   no   \n",
      "2   33  entrepreneur  married  secondary      no        2     yes  yes   \n",
      "3   47   blue-collar  married    unknown      no     1506     yes   no   \n",
      "4   33       unknown   single    unknown      no        1      no   no   \n",
      "\n",
      "   contact  day month  duration  campaign  pdays  previous poutcome   y  \n",
      "0  unknown    5   may       261         1     -1         0  unknown  no  \n",
      "1  unknown    5   may       151         1     -1         0  unknown  no  \n",
      "2  unknown    5   may        76         1     -1         0  unknown  no  \n",
      "3  unknown    5   may        92         1     -1         0  unknown  no  \n",
      "4  unknown    5   may       198         1     -1         0  unknown  no  \n"
     ]
    }
   ],
   "source": [
    "# Указываем путь к CSV файлу\n",
    "csv_path = os.path.join('bank+marketing', 'bank', 'bank-full.csv')\n",
    "print(f\"Файл сохранен по пути: {csv_path}\")\n",
    "\n",
    "# Чтение данных из CSV файла\n",
    "df = pd.read_csv(csv_path, sep=';')\n",
    "print(df.head())"
   ]
  },
  {
   "cell_type": "code",
   "execution_count": 45,
   "metadata": {},
   "outputs": [
    {
     "name": "stderr",
     "output_type": "stream",
     "text": [
      "/Library/Frameworks/Python.framework/Versions/3.13/lib/python3.13/site-packages/urllib3/connectionpool.py:1099: InsecureRequestWarning: Unverified HTTPS request is being made to host 'archive.ics.uci.edu'. Adding certificate verification is strongly advised. See: https://urllib3.readthedocs.io/en/latest/advanced-usage.html#tls-warnings\n",
      "  warnings.warn(\n"
     ]
    },
    {
     "name": "stdout",
     "output_type": "stream",
     "text": [
      "Файл сохранен по пути: bank+marketing/bank/bank-full.csv\n",
      "   age           job  marital  education default  balance housing loan  \\\n",
      "0   58    management  married   tertiary      no     2143     yes   no   \n",
      "1   44    technician   single  secondary      no       29     yes   no   \n",
      "2   33  entrepreneur  married  secondary      no        2     yes  yes   \n",
      "3   47   blue-collar  married    unknown      no     1506     yes   no   \n",
      "4   33       unknown   single    unknown      no        1      no   no   \n",
      "\n",
      "   contact  day month  duration  campaign  pdays  previous poutcome   y  \n",
      "0  unknown    5   may       261         1     -1         0  unknown  no  \n",
      "1  unknown    5   may       151         1     -1         0  unknown  no  \n",
      "2  unknown    5   may        76         1     -1         0  unknown  no  \n",
      "3  unknown    5   may        92         1     -1         0  unknown  no  \n",
      "4  unknown    5   may       198         1     -1         0  unknown  no  \n"
     ]
    }
   ],
   "source": [
    "# Устанавливаем случайное зерно для воспроизводимости\n",
    "np.random.seed(42)\n",
    "\n",
    "# Загрузка и извлечение данных\n",
    "url = 'https://archive.ics.uci.edu/static/public/222/bank+marketing.zip'\n",
    "zip_path = 'bank+marketing.zip'\n",
    "response = requests.get(url, verify=False)  # Отключение проверки сертификатов\n",
    "\n",
    "with open(zip_path, 'wb') as f:\n",
    "    f.write(response.content)\n",
    "\n",
    "with zipfile.ZipFile(zip_path, 'r') as zip_ref:\n",
    "    zip_ref.extractall('bank+marketing')\n",
    "\n",
    "# Указываем путь к CSV файлу\n",
    "csv_path = os.path.join('bank+marketing', 'bank', 'bank-full.csv')\n",
    "print(f\"Файл сохранен по пути: {csv_path}\")\n",
    "\n",
    "# Чтение данных из CSV файла\n",
    "df = pd.read_csv(csv_path, sep=';')\n",
    "print(df.head())"
   ]
  },
  {
   "cell_type": "code",
   "execution_count": 46,
   "metadata": {},
   "outputs": [
    {
     "name": "stdout",
     "output_type": "stream",
     "text": [
      "Пропущенные значения:\n",
      " age          0\n",
      "job          0\n",
      "marital      0\n",
      "education    0\n",
      "default      0\n",
      "balance      0\n",
      "housing      0\n",
      "loan         0\n",
      "contact      0\n",
      "day          0\n",
      "month        0\n",
      "duration     0\n",
      "campaign     0\n",
      "pdays        0\n",
      "previous     0\n",
      "poutcome     0\n",
      "y            0\n",
      "dtype: int64\n"
     ]
    }
   ],
   "source": [
    "# Проверка на пропущенные значения\n",
    "missing_values = df.isnull().sum()\n",
    "print(\"Пропущенные значения:\\n\", missing_values)"
   ]
  },
  {
   "cell_type": "code",
   "execution_count": 47,
   "metadata": {},
   "outputs": [
    {
     "name": "stdout",
     "output_type": "stream",
     "text": [
      "   age           job  marital  education  balance housing  contact  day month  \\\n",
      "0   58    management  married   tertiary     2143     yes  unknown    5   may   \n",
      "1   44    technician   single  secondary       29     yes  unknown    5   may   \n",
      "2   33  entrepreneur  married  secondary        2     yes  unknown    5   may   \n",
      "3   47   blue-collar  married    unknown     1506     yes  unknown    5   may   \n",
      "4   33       unknown   single    unknown        1      no  unknown    5   may   \n",
      "\n",
      "   duration  campaign  pdays  previous poutcome   y  \n",
      "0       261         1     -1         0  unknown  no  \n",
      "1       151         1     -1         0  unknown  no  \n",
      "2        76         1     -1         0  unknown  no  \n",
      "3        92         1     -1         0  unknown  no  \n",
      "4       198         1     -1         0  unknown  no  \n",
      "y\n",
      "0    39922\n",
      "1     5289\n",
      "Name: count, dtype: int64\n",
      "Тренировочные данные: (27126, 15)\n",
      "Валидационные данные: (9042, 15)\n",
      "Тестовые данные: (9043, 15)\n"
     ]
    }
   ],
   "source": [
    "# Выбираем столбцы для анализа\n",
    "columns_to_use = [\n",
    "    'age', 'job', 'marital', 'education', 'balance', 'housing', 'contact', \n",
    "    'day', 'month', 'duration', 'campaign', 'pdays', 'previous', 'poutcome', 'y'\n",
    "]\n",
    "df = df[columns_to_use]\n",
    "\n",
    "# Повторный просмотр данных\n",
    "print(df.head())\n",
    "\n",
    "# Кодируем целевую переменную: yes = 1, no = 0\n",
    "df['y'] = df['y'].map({'yes': 1, 'no': 0})\n",
    "\n",
    "# Проверим, как теперь выглядит столбец 'y'\n",
    "print(df['y'].value_counts())\n",
    "\n",
    "# Разделяем данные: 60% для тренировки, 20% для валидации, 20% для теста\n",
    "train_data, temp_data = train_test_split(df, test_size=0.4, random_state=42)\n",
    "val_data, test_data = train_test_split(temp_data, test_size=0.5, random_state=42)\n",
    "\n",
    "# Проверим размеры наборов\n",
    "print(f\"Тренировочные данные: {train_data.shape}\")\n",
    "print(f\"Валидационные данные: {val_data.shape}\")\n",
    "print(f\"Тестовые данные: {test_data.shape}\")\n",
    "\n",
    "\n"
   ]
  },
  {
   "cell_type": "code",
   "execution_count": 48,
   "metadata": {},
   "outputs": [],
   "source": [
    "# Разделяем данные\n",
    "train_data, temp_data = train_test_split(df, test_size=0.4, random_state=42)\n",
    "val_data, test_data = train_test_split(temp_data, test_size=0.5, random_state=42)\n",
    "\n",
    "# Указываем числовые и категориальные признаки\n",
    "numeric_cols = ['age', 'balance', 'day', 'duration', 'campaign', 'pdays', 'previous']\n",
    "categorical_cols = ['job', 'marital', 'education', 'housing', 'contact', 'poutcome']\n",
    "\n",
    "# Применяем One-Hot кодирование к категориальным признакам\n",
    "encoder = OneHotEncoder(sparse_output=False, drop='first')\n",
    "X_train_encoded = encoder.fit_transform(train_data[categorical_cols])\n",
    "X_val_encoded = encoder.transform(val_data[categorical_cols])\n",
    "X_test_encoded = encoder.transform(test_data[categorical_cols])\n",
    "\n",
    "# Масштабируем числовые переменные\n",
    "scaler = StandardScaler()\n",
    "X_train_numeric_scaled = scaler.fit_transform(train_data[numeric_cols])\n",
    "X_val_numeric_scaled = scaler.transform(val_data[numeric_cols])\n",
    "X_test_numeric_scaled = scaler.transform(test_data[numeric_cols])\n",
    "\n",
    "# Объединяем закодированные переменные с масштабированными числовыми переменными\n",
    "X_train_final = np.hstack((X_train_numeric_scaled, X_train_encoded))\n",
    "X_val_final = np.hstack((X_val_numeric_scaled, X_val_encoded))\n",
    "X_test_final = np.hstack((X_test_numeric_scaled, X_test_encoded))\n",
    "\n",
    "# Целевые переменные\n",
    "y_train = train_data['y']\n",
    "y_val = val_data['y']\n",
    "y_test = test_data['y']"
   ]
  },
  {
   "cell_type": "code",
   "execution_count": 49,
   "metadata": {},
   "outputs": [
    {
     "name": "stdout",
     "output_type": "stream",
     "text": [
      "Accuracy: 0.90\n"
     ]
    }
   ],
   "source": [
    "# Обучаем модель логистической регрессии\n",
    "model = LogisticRegression(max_iter=2000)\n",
    "model.fit(X_train_final, y_train)\n",
    "\n",
    "# Предсказываем значения для тестовой выборки\n",
    "y_pred = model.predict(X_test_final)\n",
    "\n",
    "# Оцениваем точность модели\n",
    "accuracy = accuracy_score(y_test, y_pred)\n",
    "print(f'Accuracy: {accuracy:.2f}')\n",
    "\n",
    "# Рассчитываем взаимную информацию\n",
    "mutual_info = mutual_info_classif(X_train_final, y_train)\n",
    "\n",
    "# Преобразуем результат в DataFrame\n",
    "mutual_info_df = pd.DataFrame(mutual_info, index=np.arange(X_train_final.shape[1]), columns=['Mutual Info']).sort_values(by='Mutual Info', ascending=False)"
   ]
  },
  {
   "cell_type": "code",
   "execution_count": 50,
   "metadata": {},
   "outputs": [
    {
     "name": "stdout",
     "output_type": "stream",
     "text": [
      "    Mutual Info\n",
      "3      0.069467\n",
      "5      0.028742\n",
      "27     0.024005\n",
      "1      0.019572\n",
      "28     0.016557\n"
     ]
    },
    {
     "data": {
      "image/png": "[encoded data removed]",
      "text/plain": [
       "<Figure size 640x480 with 2 Axes>"
      ]
     },
     "metadata": {},
     "output_type": "display_data"
    }
   ],
   "source": [
    "# Выводим матрицу ошибок\n",
    "conf_matrix = confusion_matrix(y_test, y_pred)\n",
    "disp = ConfusionMatrixDisplay(confusion_matrix=conf_matrix)\n",
    "disp.plot()\n",
    "\n",
    "# Выводим таблицу с взаимной информацией\n",
    "print(mutual_info_df.head())"
   ]
  },
  {
   "cell_type": "code",
   "execution_count": 51,
   "metadata": {},
   "outputs": [
    {
     "data": {
      "image/png": "[encoded data removed]",
      "text/plain": [
       "<Figure size 1000x600 with 1 Axes>"
      ]
     },
     "metadata": {},
     "output_type": "display_data"
    }
   ],
   "source": [
    "# Визуализируем взаимную информацию\n",
    "plt.figure(figsize=(10, 6))\n",
    "plt.barh(mutual_info_df.index, mutual_info_df['Mutual Info'], color='skyblue')\n",
    "plt.xlabel('Mutual Information')\n",
    "plt.title('Mutual Information between Features and Target')\n",
    "plt.show()\n",
    "\n",
    "# Сохранение модели\n",
    "joblib.dump(model, 'logistic_regression_model.pkl')\n",
    "\n",
    "# Загрузка модели\n",
    "loaded_model = joblib.load('logistic_regression_model.pkl')\n",
    "\n",
    "# Прогнозирование с использованием загруженной модели\n",
    "y_pred_loaded = loaded_model.predict(X_test_final)"
   ]
  },
  {
   "cell_type": "markdown",
   "metadata": {},
   "source": [
    "1: unknown\n",
    "\n",
    "2: age и balance\n",
    "\n",
    "3: contact\n",
    "\n",
    "4: 0.9\n",
    "\n",
    "5: marital\n",
    "\n",
    "6: 1"
   ]
  }
 ],
 "metadata": {
  "kernelspec": {
   "display_name": "Python 3",
   "language": "python",
   "name": "python3"
  },
  "language_info": {
   "codemirror_mode": {
    "name": "ipython",
    "version": 3
   },
   "file_extension": ".py",
   "mimetype": "text/x-python",
   "name": "python",
   "nbconvert_exporter": "python",
   "pygments_lexer": "ipython3",
   "version": "3.13.0"
  }
 },
 "nbformat": 4,
 "nbformat_minor": 2
}
