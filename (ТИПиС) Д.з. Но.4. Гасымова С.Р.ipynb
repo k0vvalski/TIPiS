{
 "cells": [
  {
   "cell_type": "code",
   "execution_count": 28,
   "id": "3a53b50a-cd12-4570-9207-bf85f8a4ab0f",
   "metadata": {},
   "outputs": [],
   "source": [
    "import pandas as pd\n",
    "import numpy as np\n",
    "import matplotlib.pyplot as plt\n",
    "from sklearn.model_selection import train_test_split\n",
    "from sklearn.feature_selection import mutual_info_classif\n",
    "from sklearn.preprocessing import OneHotEncoder, StandardScaler\n",
    "from sklearn.linear_model import LogisticRegression\n",
    "from sklearn.metrics import accuracy_score, classification_report, confusion_matrix, ConfusionMatrixDisplay\n",
    "from sklearn.model_selection import KFold\n",
    "import zipfile\n",
    "import os\n",
    "import joblib\n",
    "import requests\n",
    "\n",
    "# Устанавливаем случайное зерно для воспроизводимости\n",
    "np.random.seed(42)\n"
   ]
  },
  {
   "cell_type": "code",
   "execution_count": 29,
   "id": "0679723f-63f6-458f-bf69-315b85e302de",
   "metadata": {},
   "outputs": [
    {
     "name": "stderr",
     "output_type": "stream",
     "text": [
      "/Library/Frameworks/Python.framework/Versions/3.13/lib/python3.13/site-packages/urllib3/connectionpool.py:1099: InsecureRequestWarning: Unverified HTTPS request is being made to host 'archive.ics.uci.edu'. Adding certificate verification is strongly advised. See: https://urllib3.readthedocs.io/en/latest/advanced-usage.html#tls-warnings\n",
      "  warnings.warn(\n"
     ]
    },
    {
     "name": "stdout",
     "output_type": "stream",
     "text": [
      "Файл сохранен по пути: bank+marketing/bank/bank-full.csv\n",
      "   age           job  marital  education default  balance housing loan  \\\n",
      "0   58    management  married   tertiary      no     2143     yes   no   \n",
      "1   44    technician   single  secondary      no       29     yes   no   \n",
      "2   33  entrepreneur  married  secondary      no        2     yes  yes   \n",
      "3   47   blue-collar  married    unknown      no     1506     yes   no   \n",
      "4   33       unknown   single    unknown      no        1      no   no   \n",
      "\n",
      "   contact  day month  duration  campaign  pdays  previous poutcome   y  \n",
      "0  unknown    5   may       261         1     -1         0  unknown  no  \n",
      "1  unknown    5   may       151         1     -1         0  unknown  no  \n",
      "2  unknown    5   may        76         1     -1         0  unknown  no  \n",
      "3  unknown    5   may        92         1     -1         0  unknown  no  \n",
      "4  unknown    5   may       198         1     -1         0  unknown  no  \n"
     ]
    }
   ],
   "source": [
    "url = 'https://archive.ics.uci.edu/static/public/222/bank+marketing.zip'\n",
    "zip_path = 'bank+marketing.zip'\n",
    "response = requests.get(url, verify=False)  \n",
    "\n",
    "with open(zip_path, 'wb') as f:\n",
    "    f.write(response.content)\n",
    "\n",
    "with zipfile.ZipFile(zip_path, 'r') as zip_ref:\n",
    "    zip_ref.extractall('bank+marketing')\n",
    "\n",
    "csv_path = os.path.join('bank+marketing', 'bank', 'bank-full.csv')\n",
    "print(f\"Файл сохранен по пути: {csv_path}\")\n",
    "df = pd.read_csv(csv_path, sep=';')\n",
    "print(df.head())\n"
   ]
  },
  {
   "cell_type": "code",
   "execution_count": 30,
   "id": "e3cbc32a-7467-4f1f-861e-8c1f50bcab0c",
   "metadata": {},
   "outputs": [
    {
     "name": "stdout",
     "output_type": "stream",
     "text": [
      "Обучающая выборка: (27126, 15)\n",
      "Валидационная выборка: (9042, 15)\n",
      "Тестовая выборка: (9043, 15)\n"
     ]
    }
   ],
   "source": [
    "import pandas as pd\n",
    "from sklearn.model_selection import train_test_split\n",
    "\n",
    "# Выбираем нужные столбцы\n",
    "columns = ['age', 'job', 'marital', 'education', 'balance', 'housing', 'contact', 'day', 'month', 'duration', 'campaign', 'pdays', 'previous', 'poutcome', 'y']\n",
    "df = df[columns]\n",
    "\n",
    "# Разделение данных на обучающую, валидационную и тестовую выборки\n",
    "df_train, df_temp = train_test_split(df, test_size=0.4, random_state=1)\n",
    "df_val, df_test = train_test_split(df_temp, test_size=0.5, random_state=1)\n",
    "\n",
    "print(f\"Обучающая выборка: {df_train.shape}\")\n",
    "print(f\"Валидационная выборка: {df_val.shape}\")\n",
    "print(f\"Тестовая выборка: {df_test.shape}\")\n"
   ]
  },
  {
   "cell_type": "code",
   "execution_count": 31,
   "id": "5c671b28-47c6-43eb-b17e-e90ab9d88132",
   "metadata": {},
   "outputs": [
    {
     "name": "stdout",
     "output_type": "stream",
     "text": [
      "AUC для каждого признака: {'balance': np.float64(0.5916931412945473), 'day': np.float64(0.5291275984648961), 'duration': np.float64(0.8128648066681694), 'previous': np.float64(0.5986704105715122)}\n"
     ]
    }
   ],
   "source": [
    "from sklearn.metrics import roc_auc_score\n",
    "\n",
    "numeric_columns = ['balance', 'day', 'duration', 'previous']\n",
    "auc_scores = {}\n",
    "\n",
    "# Вычисление AUC для каждой переменной\n",
    "for col in numeric_columns:\n",
    "    auc = roc_auc_score(df_train['y'], df_train[col])\n",
    "    if auc < 0.5:\n",
    "        auc = roc_auc_score(df_train['y'], -df_train[col])\n",
    "    auc_scores[col] = auc\n",
    "\n",
    "print(\"AUC для каждого признака:\", auc_scores)\n"
   ]
  },
  {
   "cell_type": "code",
   "execution_count": 32,
   "id": "43dce5f0-5f8e-4c4e-b2d3-46b530bd1805",
   "metadata": {},
   "outputs": [
    {
     "name": "stdout",
     "output_type": "stream",
     "text": [
      "AUC на валидационной выборке: 1.000\n"
     ]
    }
   ],
   "source": [
    "from sklearn.feature_extraction import DictVectorizer\n",
    "from sklearn.linear_model import LogisticRegression\n",
    "from sklearn.metrics import roc_auc_score\n",
    "\n",
    "# Применяем one-hot-encoding\n",
    "train_dict = df_train.to_dict(orient='records')\n",
    "val_dict = df_val.to_dict(orient='records')\n",
    "\n",
    "dv = DictVectorizer(sparse=False)\n",
    "X_train = dv.fit_transform(train_dict)\n",
    "X_val = dv.transform(val_dict)\n",
    "\n",
    "y_train = df_train['y'].values\n",
    "y_val = df_val['y'].values\n",
    "\n",
    "# Обучение логистической регрессии\n",
    "model = LogisticRegression(solver='liblinear', C=1.0, max_iter=1000)\n",
    "model.fit(X_train, y_train)\n",
    "\n",
    "# AUC на валидационной выборке\n",
    "y_pred = model.predict_proba(X_val)[:, 1]\n",
    "auc = roc_auc_score(y_val, y_pred)\n",
    "print(f\"AUC на валидационной выборке: {auc:.3f}\")\n"
   ]
  },
  {
   "cell_type": "code",
   "execution_count": 33,
   "id": "8b06c52a-7a60-40c1-8d88-da5ec703755b",
   "metadata": {},
   "outputs": [],
   "source": [
    "# Преобразуем метки 'yes' и 'no' в 1 и 0\n",
    "df_train['y'] = df_train['y'].apply(lambda x: 1 if x == 'yes' else 0)\n",
    "df_val['y'] = df_val['y'].apply(lambda x: 1 if x == 'yes' else 0)\n",
    "y_train = df_train['y'].values\n",
    "y_val = df_val['y'].values\n"
   ]
  },
  {
   "cell_type": "code",
   "execution_count": 34,
   "id": "888f8712-f61d-4836-90f0-83686fce96fd",
   "metadata": {},
   "outputs": [
    {
     "name": "stderr",
     "output_type": "stream",
     "text": [
      "/Library/Frameworks/Python.framework/Versions/3.13/lib/python3.13/site-packages/sklearn/metrics/_classification.py:1531: UndefinedMetricWarning: Precision is ill-defined and being set to 0.0 due to no predicted samples. Use `zero_division` parameter to control this behavior.\n",
      "  _warn_prf(average, modifier, f\"{metric.capitalize()} is\", len(result))\n"
     ]
    },
    {
     "data": {
      "image/png": "[encoded data removed]",
      "text/plain": [
       "<Figure size 640x480 with 1 Axes>"
      ]
     },
     "metadata": {},
     "output_type": "display_data"
    },
    {
     "name": "stdout",
     "output_type": "stream",
     "text": [
      "Порог, на котором пересекаются Precision и Recall: 0.08\n"
     ]
    }
   ],
   "source": [
    "import numpy as np\n",
    "import matplotlib.pyplot as plt\n",
    "from sklearn.metrics import precision_score, recall_score\n",
    "\n",
    "thresholds = np.arange(0.0, 1.01, 0.01)\n",
    "precision_scores = []\n",
    "recall_scores = []\n",
    "\n",
    "for threshold in thresholds:\n",
    "    y_pred_threshold = (y_pred >= threshold).astype(int)\n",
    "    precision_scores.append(precision_score(y_val, y_pred_threshold))\n",
    "    recall_scores.append(recall_score(y_val, y_pred_threshold))\n",
    "\n",
    "plt.plot(thresholds, precision_scores, label='Precision')\n",
    "plt.plot(thresholds, recall_scores, label='Recall')\n",
    "plt.xlabel('Threshold')\n",
    "plt.legend()\n",
    "plt.show()\n",
    "\n",
    "# Найдем порог пересечения\n",
    "crossing_threshold = thresholds[np.argmin(np.abs(np.array(precision_scores) - np.array(recall_scores)))]\n",
    "print(f\"Порог, на котором пересекаются Precision и Recall: {crossing_threshold}\")\n"
   ]
  },
  {
   "cell_type": "code",
   "execution_count": 35,
   "id": "9af05820-4cd1-42a7-866d-3c3008e31840",
   "metadata": {},
   "outputs": [
    {
     "name": "stdout",
     "output_type": "stream",
     "text": [
      "Максимум F1 score достигается при пороге: 0.08\n"
     ]
    }
   ],
   "source": [
    "from sklearn.metrics import f1_score\n",
    "\n",
    "f1_scores = [f1_score(y_val, (y_pred >= t).astype(int)) for t in thresholds]\n",
    "best_threshold = thresholds[np.argmax(f1_scores)]\n",
    "print(f\"Максимум F1 score достигается при пороге: {best_threshold}\")\n"
   ]
  },
  {
   "cell_type": "code",
   "execution_count": 36,
   "id": "951dc5af-96a9-4261-a79b-963ccd666596",
   "metadata": {},
   "outputs": [
    {
     "name": "stdout",
     "output_type": "stream",
     "text": [
      "C=1e-06 - Средний AUC: 0.698, Стандартное отклонение: 0.008\n",
      "C=0.001 - Средний AUC: 0.996, Стандартное отклонение: 0.001\n",
      "C=1 - Средний AUC: 1.000, Стандартное отклонение: 0.000\n",
      "Лучшее значение C: 1\n"
     ]
    }
   ],
   "source": [
    "kf = KFold(n_splits=5, shuffle=True, random_state=1)\n",
    "C_values = [0.000001, 0.001, 1]\n",
    "best_C = None\n",
    "best_mean_auc = 0\n",
    "\n",
    "for C in C_values:\n",
    "    aucs = []\n",
    "    model = LogisticRegression(solver='liblinear', C=C, max_iter=1000)\n",
    "    for train_idx, val_idx in kf.split(df_train):\n",
    "        X_fold_train, X_fold_val = X_train[train_idx], X_train[val_idx]\n",
    "        y_fold_train, y_fold_val = y_train[train_idx], y_train[val_idx]\n",
    "        \n",
    "        model.fit(X_fold_train, y_fold_train)\n",
    "        y_pred_fold = model.predict_proba(X_fold_val)[:, 1]\n",
    "        aucs.append(roc_auc_score(y_fold_val, y_pred_fold))\n",
    "    \n",
    "    mean_auc = np.mean(aucs)\n",
    "    std_auc = np.std(aucs)\n",
    "    \n",
    "    print(f\"C={C} - Средний AUC: {mean_auc:.3f}, Стандартное отклонение: {std_auc:.3f}\")\n",
    "    \n",
    "    if mean_auc > best_mean_auc:\n",
    "        best_C = C\n",
    "        best_mean_auc = mean_auc\n",
    "\n",
    "print(f\"Лучшее значение C: {best_C}\")\n"
   ]
  },
  {
   "cell_type": "markdown",
   "id": "c211318f-ad16-4329-8050-4969309590fa",
   "metadata": {},
   "source": [
    "1. duration\n",
    "\n",
    "2. 1.000\n",
    "\n",
    "3. 0.08\n",
    "\n",
    "4. 0.08\n",
    "\n",
    "5. 0.008\n",
    "\n",
    "6. 1"
   ]
  }
 ],
 "metadata": {
  "kernelspec": {
   "display_name": "Python 3",
   "language": "python",
   "name": "python3"
  },
  "language_info": {
   "codemirror_mode": {
    "name": "ipython",
    "version": 3
   },
   "file_extension": ".py",
   "mimetype": "text/x-python",
   "name": "python",
   "nbconvert_exporter": "python",
   "pygments_lexer": "ipython3",
   "version": "3.13.0"
  }
 },
 "nbformat": 4,
 "nbformat_minor": 5
}
