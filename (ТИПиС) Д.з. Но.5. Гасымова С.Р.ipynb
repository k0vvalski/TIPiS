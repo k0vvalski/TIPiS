{
 "cells": [
  {
   "cell_type": "code",
   "execution_count": 15,
   "id": "9842c680-0a23-4cf3-befe-eeae283c0af1",
   "metadata": {},
   "outputs": [
    {
     "data": {
      "text/html": [
       "<div>\n",
       "<style scoped>\n",
       "    .dataframe tbody tr th:only-of-type {\n",
       "        vertical-align: middle;\n",
       "    }\n",
       "\n",
       "    .dataframe tbody tr th {\n",
       "        vertical-align: top;\n",
       "    }\n",
       "\n",
       "    .dataframe thead th {\n",
       "        text-align: right;\n",
       "    }\n",
       "</style>\n",
       "<table border=\"1\" class=\"dataframe\">\n",
       "  <thead>\n",
       "    <tr style=\"text-align: right;\">\n",
       "      <th></th>\n",
       "      <th>JAMB_Score</th>\n",
       "      <th>Study_Hours_Per_Week</th>\n",
       "      <th>Attendance_Rate</th>\n",
       "      <th>Teacher_Quality</th>\n",
       "      <th>Distance_To_School</th>\n",
       "      <th>School_Type</th>\n",
       "      <th>School_Location</th>\n",
       "      <th>Extra_Tutorials</th>\n",
       "      <th>Access_To_Learning_Materials</th>\n",
       "      <th>Parent_Involvement</th>\n",
       "      <th>IT_Knowledge</th>\n",
       "      <th>Student_ID</th>\n",
       "      <th>Age</th>\n",
       "      <th>Gender</th>\n",
       "      <th>Socioeconomic_Status</th>\n",
       "      <th>Parent_Education_Level</th>\n",
       "      <th>Assignments_Completed</th>\n",
       "    </tr>\n",
       "  </thead>\n",
       "  <tbody>\n",
       "    <tr>\n",
       "      <th>0</th>\n",
       "      <td>192</td>\n",
       "      <td>22</td>\n",
       "      <td>78</td>\n",
       "      <td>4</td>\n",
       "      <td>12.4</td>\n",
       "      <td>Public</td>\n",
       "      <td>Urban</td>\n",
       "      <td>Yes</td>\n",
       "      <td>Yes</td>\n",
       "      <td>High</td>\n",
       "      <td>Medium</td>\n",
       "      <td>1</td>\n",
       "      <td>17</td>\n",
       "      <td>Male</td>\n",
       "      <td>Low</td>\n",
       "      <td>Tertiary</td>\n",
       "      <td>2</td>\n",
       "    </tr>\n",
       "    <tr>\n",
       "      <th>1</th>\n",
       "      <td>207</td>\n",
       "      <td>14</td>\n",
       "      <td>88</td>\n",
       "      <td>4</td>\n",
       "      <td>2.7</td>\n",
       "      <td>Public</td>\n",
       "      <td>Rural</td>\n",
       "      <td>No</td>\n",
       "      <td>Yes</td>\n",
       "      <td>High</td>\n",
       "      <td>High</td>\n",
       "      <td>2</td>\n",
       "      <td>15</td>\n",
       "      <td>Male</td>\n",
       "      <td>High</td>\n",
       "      <td>NaN</td>\n",
       "      <td>1</td>\n",
       "    </tr>\n",
       "    <tr>\n",
       "      <th>2</th>\n",
       "      <td>182</td>\n",
       "      <td>29</td>\n",
       "      <td>87</td>\n",
       "      <td>2</td>\n",
       "      <td>9.6</td>\n",
       "      <td>Public</td>\n",
       "      <td>Rural</td>\n",
       "      <td>Yes</td>\n",
       "      <td>Yes</td>\n",
       "      <td>High</td>\n",
       "      <td>Medium</td>\n",
       "      <td>3</td>\n",
       "      <td>20</td>\n",
       "      <td>Female</td>\n",
       "      <td>High</td>\n",
       "      <td>Tertiary</td>\n",
       "      <td>2</td>\n",
       "    </tr>\n",
       "    <tr>\n",
       "      <th>3</th>\n",
       "      <td>210</td>\n",
       "      <td>29</td>\n",
       "      <td>99</td>\n",
       "      <td>2</td>\n",
       "      <td>2.6</td>\n",
       "      <td>Public</td>\n",
       "      <td>Urban</td>\n",
       "      <td>No</td>\n",
       "      <td>Yes</td>\n",
       "      <td>Medium</td>\n",
       "      <td>High</td>\n",
       "      <td>4</td>\n",
       "      <td>22</td>\n",
       "      <td>Female</td>\n",
       "      <td>Medium</td>\n",
       "      <td>Tertiary</td>\n",
       "      <td>1</td>\n",
       "    </tr>\n",
       "    <tr>\n",
       "      <th>4</th>\n",
       "      <td>199</td>\n",
       "      <td>12</td>\n",
       "      <td>98</td>\n",
       "      <td>3</td>\n",
       "      <td>8.8</td>\n",
       "      <td>Public</td>\n",
       "      <td>Urban</td>\n",
       "      <td>No</td>\n",
       "      <td>Yes</td>\n",
       "      <td>Medium</td>\n",
       "      <td>Medium</td>\n",
       "      <td>5</td>\n",
       "      <td>22</td>\n",
       "      <td>Female</td>\n",
       "      <td>Medium</td>\n",
       "      <td>Tertiary</td>\n",
       "      <td>1</td>\n",
       "    </tr>\n",
       "  </tbody>\n",
       "</table>\n",
       "</div>"
      ],
      "text/plain": [
       "   JAMB_Score  Study_Hours_Per_Week  Attendance_Rate  Teacher_Quality  \\\n",
       "0         192                    22               78                4   \n",
       "1         207                    14               88                4   \n",
       "2         182                    29               87                2   \n",
       "3         210                    29               99                2   \n",
       "4         199                    12               98                3   \n",
       "\n",
       "   Distance_To_School School_Type School_Location Extra_Tutorials  \\\n",
       "0                12.4      Public           Urban             Yes   \n",
       "1                 2.7      Public           Rural              No   \n",
       "2                 9.6      Public           Rural             Yes   \n",
       "3                 2.6      Public           Urban              No   \n",
       "4                 8.8      Public           Urban              No   \n",
       "\n",
       "  Access_To_Learning_Materials Parent_Involvement IT_Knowledge  Student_ID  \\\n",
       "0                          Yes               High       Medium           1   \n",
       "1                          Yes               High         High           2   \n",
       "2                          Yes               High       Medium           3   \n",
       "3                          Yes             Medium         High           4   \n",
       "4                          Yes             Medium       Medium           5   \n",
       "\n",
       "   Age  Gender Socioeconomic_Status Parent_Education_Level  \\\n",
       "0   17    Male                  Low               Tertiary   \n",
       "1   15    Male                 High                    NaN   \n",
       "2   20  Female                 High               Tertiary   \n",
       "3   22  Female               Medium               Tertiary   \n",
       "4   22  Female               Medium               Tertiary   \n",
       "\n",
       "   Assignments_Completed  \n",
       "0                      2  \n",
       "1                      1  \n",
       "2                      2  \n",
       "3                      1  \n",
       "4                      1  "
      ]
     },
     "execution_count": 15,
     "metadata": {},
     "output_type": "execute_result"
    }
   ],
   "source": [
    "import pandas as pd\n",
    "\n",
    "file_path = r\"/Users/snezana/Downloads/jamb_exam_results.csv\"\n",
    "\n",
    "df = pd.read_csv(file_path)\n",
    "\n",
    "df.head()\n"
   ]
  },
  {
   "cell_type": "code",
   "execution_count": 16,
   "id": "8fe11a20-48c8-4878-8e81-2d9409ac8ccc",
   "metadata": {},
   "outputs": [],
   "source": [
    "# Преобразуем названия колонок в нижний регистр и заменяем пробелы на нижние подчеркивания\n",
    "df.columns = df.columns.str.lower().str.replace(' ', '_')\n"
   ]
  },
  {
   "cell_type": "code",
   "execution_count": 17,
   "id": "a07719d9-6fcf-4234-a1be-775b4c301a5c",
   "metadata": {},
   "outputs": [],
   "source": [
    "# Удаляем столбец student_id\n",
    "df = df.drop(columns=['student_id'])\n"
   ]
  },
  {
   "cell_type": "code",
   "execution_count": 18,
   "id": "8b40af87-4f05-4d5a-a4ee-3b289d764400",
   "metadata": {},
   "outputs": [],
   "source": [
    "# Заполняем пропущенные значения нулями\n",
    "df = df.fillna(0)\n"
   ]
  },
  {
   "cell_type": "code",
   "execution_count": 19,
   "id": "c3798083-4bd1-4e06-a3c0-a5f69ecb831e",
   "metadata": {},
   "outputs": [],
   "source": [
    "from sklearn.model_selection import train_test_split\n",
    "\n",
    "X = df.drop(columns=['jamb_score'])\n",
    "y = df['jamb_score']\n",
    "\n",
    "# Разделяем данные на train (60%), validation (20%) и test (20%)\n",
    "X_train, X_temp, y_train, y_temp = train_test_split(X, y, test_size=0.4, random_state=1)\n",
    "X_val, X_test, y_val, y_test = train_test_split(X_temp, y_temp, test_size=0.5, random_state=1)\n"
   ]
  },
  {
   "cell_type": "code",
   "execution_count": 20,
   "id": "f6ac5172-00f2-4aa2-ba5c-caae25ee47da",
   "metadata": {},
   "outputs": [],
   "source": [
    "from sklearn.feature_extraction import DictVectorizer\n",
    "\n",
    "# Преобразуем датафреймы в матрицы\n",
    "dv = DictVectorizer(sparse=True)\n",
    "X_train = dv.fit_transform(X_train.to_dict(orient='records'))\n",
    "X_val = dv.transform(X_val.to_dict(orient='records'))\n",
    "X_test = dv.transform(X_test.to_dict(orient='records'))\n"
   ]
  },
  {
   "cell_type": "code",
   "execution_count": 21,
   "id": "24991dfa-4125-4262-b322-6d6a7db55410",
   "metadata": {},
   "outputs": [
    {
     "name": "stdout",
     "output_type": "stream",
     "text": [
      "Признак, использованный для разбиения данных: study_hours_per_week\n"
     ]
    }
   ],
   "source": [
    "from sklearn.tree import DecisionTreeRegressor\n",
    "\n",
    "# Обучаем дерево решений\n",
    "dt_model = DecisionTreeRegressor(max_depth=1, random_state=1)\n",
    "dt_model.fit(X_train, y_train)\n",
    "\n",
    "# Получили признак, использованный для разбиения данных\n",
    "split_feature = dv.feature_names_[dt_model.tree_.feature[0]]\n",
    "print(\"Признак, использованный для разбиения данных:\", split_feature)\n"
   ]
  },
  {
   "cell_type": "code",
   "execution_count": 22,
   "id": "2b79bf9d-2ec2-4d5f-ba77-0793348a4e76",
   "metadata": {},
   "outputs": [
    {
     "name": "stdout",
     "output_type": "stream",
     "text": [
      "RMSE на валидационных данных: 43.157758977963624\n"
     ]
    }
   ],
   "source": [
    "from sklearn.ensemble import RandomForestRegressor\n",
    "from sklearn.metrics import mean_squared_error\n",
    "import numpy as np\n",
    "\n",
    "# Обучаем случайный лес\n",
    "rf_model = RandomForestRegressor(n_estimators=10, random_state=1, n_jobs=-1)\n",
    "rf_model.fit(X_train, y_train)\n",
    "\n",
    "# Оцениваем модель на валидационных данных\n",
    "y_val_pred = rf_model.predict(X_val)\n",
    "rmse = np.sqrt(mean_squared_error(y_val, y_val_pred))\n",
    "print(\"RMSE на валидационных данных:\", rmse)\n"
   ]
  },
  {
   "cell_type": "code",
   "execution_count": 23,
   "id": "5edee37a-0068-4dc7-a179-d62d5f8f31d5",
   "metadata": {},
   "outputs": [
    {
     "name": "stdout",
     "output_type": "stream",
     "text": [
      "n_estimators: 10, RMSE: 43.158\n",
      "n_estimators: 20, RMSE: 41.790\n",
      "n_estimators: 30, RMSE: 41.556\n",
      "n_estimators: 40, RMSE: 41.076\n",
      "n_estimators: 50, RMSE: 40.957\n",
      "n_estimators: 60, RMSE: 40.774\n",
      "n_estimators: 70, RMSE: 40.588\n",
      "n_estimators: 80, RMSE: 40.503\n",
      "n_estimators: 90, RMSE: 40.435\n",
      "n_estimators: 100, RMSE: 40.365\n",
      "n_estimators: 110, RMSE: 40.348\n",
      "n_estimators: 120, RMSE: 40.302\n",
      "n_estimators: 130, RMSE: 40.286\n",
      "n_estimators: 140, RMSE: 40.263\n",
      "n_estimators: 150, RMSE: 40.254\n",
      "n_estimators: 160, RMSE: 40.200\n",
      "n_estimators: 170, RMSE: 40.187\n",
      "n_estimators: 180, RMSE: 40.136\n",
      "n_estimators: 190, RMSE: 40.152\n",
      "n_estimators: 200, RMSE: 40.138\n"
     ]
    }
   ],
   "source": [
    "# Значения n_estimators от 10 до 200 с шагом 10\n",
    "rmse_scores = {}\n",
    "for n in range(10, 201, 10):\n",
    "    rf_model = RandomForestRegressor(n_estimators=n, random_state=1, n_jobs=-1)\n",
    "    rf_model.fit(X_train, y_train)\n",
    "    y_val_pred = rf_model.predict(X_val)\n",
    "    rmse_scores[n] = np.sqrt(mean_squared_error(y_val, y_val_pred))\n",
    "\n",
    "# Значение n_estimators, после которого RMSE перестает улучшаться\n",
    "for n, score in rmse_scores.items():\n",
    "    print(f\"n_estimators: {n}, RMSE: {score:.3f}\")\n"
   ]
  },
  {
   "cell_type": "code",
   "execution_count": 24,
   "id": "b730ac3f-f52c-489c-b85a-407b1fbe04d5",
   "metadata": {},
   "outputs": [
    {
     "name": "stdout",
     "output_type": "stream",
     "text": [
      "Лучшее значение max_depth: 10\n"
     ]
    }
   ],
   "source": [
    "# Значения max_depth: [10, 15, 20, 25]\n",
    "depth_scores = {}\n",
    "for max_depth in [10, 15, 20, 25]:\n",
    "    rmse_list = []\n",
    "    for n in range(10, 201, 10):\n",
    "        rf_model = RandomForestRegressor(n_estimators=n, max_depth=max_depth, random_state=1, n_jobs=-1)\n",
    "        rf_model.fit(X_train, y_train)\n",
    "        y_val_pred = rf_model.predict(X_val)\n",
    "        rmse_list.append(np.sqrt(mean_squared_error(y_val, y_val_pred)))\n",
    "    depth_scores[max_depth] = np.mean(rmse_list)\n",
    "\n",
    "# Находим значение max_depth с наименьшим средним RMSE\n",
    "best_max_depth = min(depth_scores, key=depth_scores.get)\n",
    "print(\"Лучшее значение max_depth:\", best_max_depth)\n"
   ]
  },
  {
   "cell_type": "code",
   "execution_count": 25,
   "id": "e8c877a1-057f-4f12-aa4a-7239ed611b3b",
   "metadata": {},
   "outputs": [
    {
     "name": "stdout",
     "output_type": "stream",
     "text": [
      "Самый важный признак: study_hours_per_week\n"
     ]
    }
   ],
   "source": [
    "# Обучаем модель с указанными параметрами\n",
    "rf_model = RandomForestRegressor(n_estimators=10, max_depth=20, random_state=1, n_jobs=-1)\n",
    "rf_model.fit(X_train, y_train)\n",
    "\n",
    "# Получите информацию о важности признаков\n",
    "importances = rf_model.feature_importances_\n",
    "important_feature = dv.feature_names_[np.argmax(importances)]\n",
    "print(\"Самый важный признак:\", important_feature)\n"
   ]
  },
  {
   "cell_type": "code",
   "execution_count": null,
   "id": "7e8040f4-d034-40b7-8384-ef8985404936",
   "metadata": {},
   "outputs": [],
   "source": [
    "import xgboost as xgb\n",
    "\n",
    "# Создаём DMatrix для train и validation\n",
    "dtrain = xgb.DMatrix(X_train, label=y_train)\n",
    "dval = xgb.DMatrix(X_val, label=y_val)\n",
    "\n",
    "# Создаём watchlist\n",
    "watchlist = [(dtrain, 'train'), (dval, 'eval')]\n",
    "\n",
    "# Устанавливаем параметры для модели XGBoost\n",
    "xgb_params = {\n",
    "    'eta': 0.3,\n",
    "    'max_depth': 6,\n",
    "    'min_child_weight': 1,\n",
    "    'objective': 'reg:squarederror',\n",
    "    'nthread': 8,\n",
    "    'seed': 1,\n",
    "    'verbosity': 1\n",
    "}\n",
    "\n",
    "# Обучаем модель с eta=0.3\n",
    "model_eta_03 = xgb.train(xgb_params, dtrain, num_boost_round=100, evals=watchlist, early_stopping_rounds=10)\n",
    "\n",
    "# Меняем eta на 0.1 и повторяем обучение\n",
    "xgb_params['eta'] = 0.1\n",
    "model_eta_01 = xgb.train(xgb_params, dtrain, num_boost_round=100, evals=watchlist, early_stopping_rounds=10)\n",
    "\n",
    "# Сраваем RMSE на валидации для двух значений eta\n",
    "print(\"Лучшее значение RMSE при eta=0.3:\", model_eta_03.best_score)\n",
    "print(\"Лучшее значение RMSE при eta=0.1:\", model_eta_01.best_score)\n"
   ]
  },
  {
   "cell_type": "markdown",
   "id": "ebb9c886-0be1-49ba-9cfe-cb7eabc9605c",
   "metadata": {},
   "source": [
    "1. study_hours_per_week\n",
    "2. 42.13\n",
    "3. 80\n",
    "4. 15\n",
    "5. study_hours_per_week\n",
    "6. 0.3"
   ]
  },
  {
   "cell_type": "code",
   "execution_count": null,
   "id": "d2d41dee-0508-4b46-9d2d-fcdfe57c5877",
   "metadata": {},
   "outputs": [],
   "source": []
  }
 ],
 "metadata": {
  "kernelspec": {
   "display_name": "Python 3",
   "language": "python",
   "name": "python3"
  },
  "language_info": {
   "codemirror_mode": {
    "name": "ipython",
    "version": 3
   },
   "file_extension": ".py",
   "mimetype": "text/x-python",
   "name": "python",
   "nbconvert_exporter": "python",
   "pygments_lexer": "ipython3",
   "version": "3.13.0"
  }
 },
 "nbformat": 4,
 "nbformat_minor": 5
}
